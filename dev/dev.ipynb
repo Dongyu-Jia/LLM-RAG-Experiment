{
 "cells": [
  {
   "cell_type": "markdown",
   "metadata": {},
   "source": [
    "Need to select Kernel as \"rag\" first"
   ]
  },
  {
   "cell_type": "code",
   "execution_count": 4,
   "metadata": {},
   "outputs": [],
   "source": [
    "import sys  \n",
    "import os  \n",
    "\n",
    "# Get the current directory and add the parent directory to the path  \n",
    "current_directory = os.getcwd()  \n",
    "parent_directory = os.path.dirname(current_directory)  \n",
    "sys.path.insert(0, parent_directory)  \n",
    "\n",
    "from data_preparation.data_util import parse_markdown_sections"
   ]
  },
  {
   "cell_type": "code",
   "execution_count": 5,
   "metadata": {},
   "outputs": [
    {
     "name": "stdout",
     "output_type": "stream",
     "text": [
      "run parse_markdown_sections\n",
      "Ecosystem\n",
      "Statistics and machi\n",
      "Statsmodels\n",
      "Featuretools\n",
      "Compose\n",
      "STUMPY\n",
      "Visualization\n",
      "Altair\n",
      "Bokeh\n",
      "pygwalker\n",
      "seaborn\n",
      "plotnine\n",
      "IPython Vega\n",
      "Plotly\n",
      "Lux\n",
      "D-Tale\n",
      "hvplot\n",
      "IDE\n",
      "IPython\n",
      "Jupyter Notebook / J\n",
      "Spyder\n",
      "API\n",
      "pandas-datareader\n",
      "pandaSDMX\n",
      "fredapi\n",
      "Domain specific\n",
      "Geopandas\n",
      "gurobipy-pandas\n",
      "staircase\n",
      "xarray\n",
      "IO\n",
      "NTV-pandas\n",
      "BCPandas\n",
      "Deltalake\n",
      "pandas-gbq\n",
      "ArcticDB\n",
      "ArcticDB Terminology\n",
      "Installation\n",
      "this will set up the\n",
      "Library Setup\n",
      "Writing Data to Arct\n",
      "Reading Data from Ar\n",
      "Out-of-core\n",
      "Bodo\n",
      "Cylon\n",
      "Initialize Cylon dis\n",
      "Using 1000s of cores\n",
      "Dask\n",
      "Dask-ML\n",
      "Ibis\n",
      "Koalas\n",
      "Modin\n",
      "import pandas as pd\n",
      "Pandarallel\n",
      "df.apply(func)\n",
      "Vaex\n",
      "Hail Query\n",
      "Data cleaning and va\n",
      "pyjanitor\n",
      "Pandera\n",
      "Extension data types\n",
      "awkward-pandas\n",
      "db-dtypes\n",
      "Pandas-Genomics\n",
      "Physipandas\n",
      "Pint-Pandas\n",
      "Text Extensions\n",
      "Accessors\n",
      "Development tools\n",
      "pandas-stubs\n",
      "Hamilton\n"
     ]
    }
   ],
   "source": [
    "mdPath = \"/home/ubuntu/dongyuj/pandas/web/pandas/community/ecosystem.md\"\n",
    "\n",
    "s=parse_markdown_sections(mdPath)\n",
    "len(s)\n",
    "\n",
    "for i in s:\n",
    "    print(i[\"heading\"][:20])"
   ]
  }
 ],
 "metadata": {
  "kernelspec": {
   "display_name": "rag",
   "language": "python",
   "name": "python3"
  },
  "language_info": {
   "codemirror_mode": {
    "name": "ipython",
    "version": 3
   },
   "file_extension": ".py",
   "mimetype": "text/x-python",
   "name": "python",
   "nbconvert_exporter": "python",
   "pygments_lexer": "ipython3",
   "version": "3.9.20"
  }
 },
 "nbformat": 4,
 "nbformat_minor": 2
}
