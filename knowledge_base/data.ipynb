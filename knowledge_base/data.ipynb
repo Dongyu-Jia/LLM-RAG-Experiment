{
 "cells": [
  {
   "cell_type": "code",
   "execution_count": null,
   "id": "14312893-6f72-4ef6-9c13-789252df32bb",
   "metadata": {},
   "outputs": [],
   "source": [
    "import os\n",
    "from functools import partial\n",
    "from pathlib import Path\n",
    "import ast\n",
    "\n",
    "from langchain.document_loaders import ReadTheDocsLoader\n",
    "from langchain.text_splitter import RecursiveCharacterTextSplitter\n",
    "from langchain_experimental.text_splitter import SemanticChunker\n",
    "# from langchain.embeddings import OpenAIEmbeddings\n",
    "# from langchain.embeddings.huggingface import HuggingFaceEmbeddings\n",
    "import numpy as np\n",
    "import psycopg2\n",
    "from pgvector.psycopg2 import register_vector\n",
    "# from sentence_transformers import SentenceTransformer\n",
    "from langchain_huggingface import HuggingFaceEmbeddings\n",
    "import ray\n",
    "from ray.data import ActorPoolStrategy"
   ]
  },
  {
   "cell_type": "code",
   "execution_count": null,
   "id": "e42e3c80-8cb0-4998-b4e3-dd5baaabe403",
   "metadata": {},
   "outputs": [],
   "source": [
    "ray.shutdown()\n",
    "ray.init(logging_level=\"error\")"
   ]
  },
  {
   "cell_type": "markdown",
   "id": "fd229a69-6d7f-419b-8c35-c6c51ed0b566",
   "metadata": {},
   "source": [
    "### Reading raw data in doc/ folder"
   ]
  },
  {
   "cell_type": "code",
   "execution_count": null,
   "id": "46e45cba-cd4a-47c3-9a65-610a028c39e3",
   "metadata": {},
   "outputs": [],
   "source": [
    "BASE_PATH = \"/Users/guohaorui/Projects/cs230/\"\n",
    "DOCS_DIR = Path('/Users/guohaorui/Projects/cs230/pandas/doc')\n",
    "files_path = [str(file) for file in DOCS_DIR.rglob(\"*.rst\") if \"_static\" not in str(file)]"
   ]
  },
  {
   "cell_type": "code",
   "execution_count": null,
   "id": "4a31451a-72c3-40c2-a1bd-2c429525c796",
   "metadata": {},
   "outputs": [],
   "source": [
    "@ray.remote\n",
    "def read_file(file_path):\n",
    "    with open(file_path, \"r\") as f:\n",
    "        text = f.read()\n",
    "    return {'source': os.path.relpath(file_path, BASE_PATH), 'text': text}"
   ]
  },
  {
   "cell_type": "markdown",
   "id": "5c8a2df8-cda2-41c5-aa8b-d370ab9d941a",
   "metadata": {},
   "source": [
    "This is not very efficient rn"
   ]
  },
  {
   "cell_type": "code",
   "execution_count": null,
   "id": "693b66e7-a4a1-406b-9804-8e3aadcf91c9",
   "metadata": {},
   "outputs": [],
   "source": [
    "ds1 = ray.data.from_items(ray.get([read_file.remote(file_path) for file_path in files_path]))"
   ]
  },
  {
   "cell_type": "code",
   "execution_count": null,
   "id": "ef942f95-1c98-4396-8662-04129e2d5c66",
   "metadata": {},
   "outputs": [],
   "source": [
    "ds1.count()"
   ]
  },
  {
   "cell_type": "markdown",
   "id": "3d233485-8ad3-45b8-ba0b-4f4ef5093f17",
   "metadata": {},
   "source": [
    "### Reading inline API documentation data"
   ]
  },
  {
   "cell_type": "code",
   "execution_count": null,
   "id": "8e5b36b7-3cb3-4b03-908c-7fcebb81c11a",
   "metadata": {},
   "outputs": [],
   "source": [
    "DOCS_DIR = Path('/Users/guohaorui/Projects/cs230/pandas/pandas')\n",
    "files_paths = [str(file) for file in DOCS_DIR.rglob(\"*.py\") if \"_testing\" not in str(file)]"
   ]
  },
  {
   "cell_type": "code",
   "execution_count": null,
   "id": "98d29ebd-fe2a-4b71-a027-51def5b610ec",
   "metadata": {},
   "outputs": [],
   "source": [
    "@ray.remote\n",
    "def extract_docstrings_from_file(file_path):\n",
    "    \"\"\"Extract all docstrings from a Python file.\"\"\"\n",
    "    with open(file_path, \"r\", encoding=\"utf-8\") as f:\n",
    "        source_code = f.read()\n",
    "\n",
    "    tree = ast.parse(source_code)\n",
    "    docstrings = []\n",
    "\n",
    "    for node in ast.walk(tree):\n",
    "        combined = None\n",
    "        if isinstance(node, ast.FunctionDef):\n",
    "            docstring = ast.get_docstring(node)\n",
    "            if docstring: \n",
    "                signature = f\"def {node.name}({', '.join([arg.arg for arg in node.args.args])})\"\n",
    "                combined = f\"{signature}: {docstring}\"\n",
    "        elif isinstance(node, ast.ClassDef):\n",
    "            docstring = ast.get_docstring(node)\n",
    "            if docstring:\n",
    "                signature = f\"class {node.name}()\"\n",
    "                combined = f\"{signature}: {docstring}\"\n",
    "        if combined is not None:\n",
    "                docstrings.append({\n",
    "                    'source': os.path.relpath(file_path, BASE_PATH),\n",
    "                    'text': combined\n",
    "                })\n",
    "    \n",
    "    return docstrings\n",
    "\n",
    "docstring_tasks = [extract_docstrings_from_file.remote(file_path) for file_path in files_paths]\n",
    "docstring_results = ray.get(docstring_tasks)\n",
    "flattened_results = [item for sublist in docstring_results for item in sublist]\n",
    "ds2 = ray.data.from_items(flattened_results)"
   ]
  },
  {
   "cell_type": "code",
   "execution_count": null,
   "id": "0c08880a-1589-4d6c-9f32-adaa4f54450b",
   "metadata": {},
   "outputs": [],
   "source": [
    "ds = ds2.union(ds1)"
   ]
  },
  {
   "cell_type": "markdown",
   "id": "272529a6-62af-4df3-9579-f063b9b17054",
   "metadata": {},
   "source": [
    "### chunking"
   ]
  },
  {
   "cell_type": "markdown",
   "id": "b11becff-af8e-443c-aaf8-376a801012e0",
   "metadata": {},
   "source": [
    "#### 1st approach"
   ]
  },
  {
   "cell_type": "code",
   "execution_count": null,
   "id": "83d683e7-b732-4fbc-a311-e12219de9b81",
   "metadata": {},
   "outputs": [],
   "source": [
    "def chunk_section_1st_approach(section):\n",
    "    text_splitter = RecursiveCharacterTextSplitter(\n",
    "        separators=[\"\\n\\n\", \"\\n\", \" \", \"\"],\n",
    "        chunk_size=300,\n",
    "        chunk_overlap=50,\n",
    "        length_function=len,\n",
    "    )\n",
    "    chunks = text_splitter.create_documents(\n",
    "        texts=[section[\"text\"]], \n",
    "        metadatas=[{\"source\": section[\"source\"]}])\n",
    "    return [{\"text\": chunk.page_content, \"source\": chunk.metadata[\"source\"]} for chunk in chunks]"
   ]
  },
  {
   "cell_type": "code",
   "execution_count": null,
   "id": "5af70b81-bcab-4cc9-8009-8090ec422083",
   "metadata": {},
   "outputs": [],
   "source": [
    "chunks_ds = ds.flat_map(chunk_section_1st_approach)"
   ]
  },
  {
   "cell_type": "markdown",
   "id": "a88615d0-6b84-492a-8889-f191479af19b",
   "metadata": {},
   "source": [
    "#### 2nd approach"
   ]
  },
  {
   "cell_type": "code",
   "execution_count": null,
   "id": "e2043728-a9ff-4acf-bf3e-e8d50d52328e",
   "metadata": {},
   "outputs": [],
   "source": [
    "def chunk_section_2nd_approach(section):\n",
    "    text_splitter = RecursiveCharacterTextSplitter(\n",
    "        separators=[\"---\", \"~~~\", \"###\", \"***\", \"+++\", \"```\", \"\\n\\n\", \"\\n\", \" \", \"\"],\n",
    "        chunk_size=1000,\n",
    "        chunk_overlap=50,\n",
    "        length_function=len,\n",
    "    )\n",
    "    chunks = text_splitter.create_documents(\n",
    "        texts=[section[\"text\"]], \n",
    "        metadatas=[{\"source\": section[\"source\"]}])\n",
    "    return [{\"text\": chunk.page_content, \"source\": chunk.metadata[\"source\"]} for chunk in chunks]"
   ]
  },
  {
   "cell_type": "code",
   "execution_count": null,
   "id": "79866d81-5384-4ad2-8d64-1b63582723b1",
   "metadata": {},
   "outputs": [],
   "source": [
    "section_identifiers = [\"=\", \"-\", \"~\", \"#\", \"*\", \"+\", \"`\", \"~\", \":\"]\n",
    "def is_section_identifier(text):\n",
    "    stripped_text = text.strip()\n",
    "    return all(char in section_identifiers for char in stripped_text)\n",
    "\n",
    "filtered_ds = ds.filter(lambda row: not is_section_identifier(row[\"text\"]))"
   ]
  },
  {
   "cell_type": "code",
   "execution_count": null,
   "id": "ecba93d7-a2ca-4e18-af5d-8fd34935f72f",
   "metadata": {},
   "outputs": [],
   "source": [
    "chunks_ds = filtered_ds.flat_map(chunk_section_2nd_approach)"
   ]
  },
  {
   "cell_type": "markdown",
   "id": "48181417-3684-4679-a08e-97ba0bdb9b0f",
   "metadata": {},
   "source": [
    "#### 3rd approach"
   ]
  },
  {
   "cell_type": "code",
   "execution_count": null,
   "id": "9486d9a2-4397-4448-9f88-5ce6f2080106",
   "metadata": {},
   "outputs": [],
   "source": [
    "# embedding_model = SentenceTransformer('paraphrase-MiniLM-L6-v2')\n",
    "embedding_model = HuggingFaceEmbeddings(model_name=\"paraphrase-MiniLM-L6-v2\")"
   ]
  },
  {
   "cell_type": "code",
   "execution_count": null,
   "id": "6f8304df-7ea5-4407-a022-2ed08b65a55b",
   "metadata": {},
   "outputs": [],
   "source": [
    "def chunk_section_3rd_approach(section):\n",
    "    text_splitter = SemanticChunker(embedding_model)\n",
    "    chunks = text_splitter.create_documents(\n",
    "        texts=[section[\"text\"]], \n",
    "        metadatas=[{\"source\": section[\"source\"]}])\n",
    "    return [{\"text\": chunk.page_content, \"source\": chunk.metadata[\"source\"]} for chunk in chunks]"
   ]
  },
  {
   "cell_type": "code",
   "execution_count": null,
   "id": "0731fad2-054f-41a9-bbb3-2ebc4af2b7fa",
   "metadata": {},
   "outputs": [],
   "source": [
    "chunks_ds = ds.flat_map(chunk_section_3rd_approach)"
   ]
  },
  {
   "cell_type": "code",
   "execution_count": null,
   "id": "29d3591d-0e06-4b46-b45e-2e5ae66d5104",
   "metadata": {},
   "outputs": [],
   "source": []
  },
  {
   "cell_type": "markdown",
   "id": "9368f301-a367-4053-b125-c1abcba6a9a5",
   "metadata": {},
   "source": [
    "### embeddings"
   ]
  },
  {
   "cell_type": "code",
   "execution_count": null,
   "id": "2ce19d29-27a5-4627-9e9a-3c59553fe681",
   "metadata": {},
   "outputs": [],
   "source": [
    "embedded_chunks = chunks_ds.flat_map(\n",
    "    lambda row: [{\"text\": row[\"text\"], \"source\": row[\"source\"], \"embeddings\": embedding_model.embed_query(row[\"text\"])}])"
   ]
  },
  {
   "cell_type": "markdown",
   "id": "19c743d9-d00d-4c5d-bec6-b77e3180711a",
   "metadata": {},
   "source": [
    "### DB storage"
   ]
  },
  {
   "cell_type": "code",
   "execution_count": null,
   "id": "715edbcd-3190-45fc-af36-38a7bed9d2a6",
   "metadata": {},
   "outputs": [],
   "source": [
    "db_user = 'postgres'\n",
    "db_password = 'CS230password'\n",
    "db_host = 'database-1.cdi4gywsaigf.us-east-2.rds.amazonaws.com'\n",
    "db_port = 5432\n",
    "db_name = 'postgres'\n",
    "\n",
    "db_connection_string = f\"postgresql://{db_user}:{db_password}@{db_host}:{db_port}/{db_name}\""
   ]
  },
  {
   "cell_type": "code",
   "execution_count": null,
   "id": "16d419f7-cd4f-4fe7-8057-a7d952d25e45",
   "metadata": {},
   "outputs": [],
   "source": [
    "def insert_batch_into_db(batch):\n",
    "    with psycopg2.connect(db_connection_string) as conn:\n",
    "        register_vector(conn)\n",
    "        with conn.cursor() as cur:\n",
    "            for text, source, embedding in zip(batch[\"text\"], batch[\"source\"], batch[\"embeddings\"]):\n",
    "                cur.execute(\n",
    "                    \"INSERT INTO document_semantic_split (text, source, embedding) VALUES (%s, %s, %s)\",\n",
    "                    (text, source, embedding),\n",
    "                )\n",
    "        conn.commit()\n",
    "    return {}"
   ]
  },
  {
   "cell_type": "code",
   "execution_count": null,
   "id": "c2362843-f22c-40d2-8a30-137091a23a01",
   "metadata": {},
   "outputs": [],
   "source": [
    "embedded_chunks.map_batches(\n",
    "    insert_batch_into_db,\n",
    "    batch_size=64,\n",
    "    num_cpus=8,\n",
    "    concurrency=8\n",
    ").count()"
   ]
  },
  {
   "cell_type": "markdown",
   "id": "9b237c0b-323e-47e2-a07f-68167d4f9ac2",
   "metadata": {},
   "source": [
    "### Retrieval example"
   ]
  },
  {
   "cell_type": "code",
   "execution_count": null,
   "id": "d8b0a704-c1de-420a-b785-df35d734f6f9",
   "metadata": {},
   "outputs": [],
   "source": [
    "query = \"What are the arguments for fillna()?\"\n",
    "\n",
    "embedding = np.array(embedding_model.embed_query(query))\n",
    "len(embedding)"
   ]
  },
  {
   "cell_type": "code",
   "execution_count": null,
   "id": "68717355-e1bc-4594-8244-bb1868618bfc",
   "metadata": {},
   "outputs": [],
   "source": [
    "num_chunks = 5\n",
    "with psycopg2.connect(db_connection_string) as conn:\n",
    "    register_vector(conn)\n",
    "    with conn.cursor() as cur:\n",
    "        cur.execute(\"SELECT * FROM document_recursive_split_default_300_50 ORDER BY embedding <-> %s LIMIT %s\", (embedding, num_chunks))\n",
    "        rows = cur.fetchall()\n",
    "        context = [{\"text\": row[1]} for row in rows]\n",
    "        sources = [row[2] for row in rows]\n"
   ]
  },
  {
   "cell_type": "code",
   "execution_count": null,
   "id": "7b92c5dc-58ab-4120-bdf3-2dfb8bd2ed1b",
   "metadata": {},
   "outputs": [],
   "source": [
    "sources[1]"
   ]
  },
  {
   "cell_type": "code",
   "execution_count": null,
   "id": "65957d94-f8b8-4d5c-84cd-1fd57f5f7128",
   "metadata": {},
   "outputs": [],
   "source": []
  }
 ],
 "metadata": {
  "kernelspec": {
   "display_name": "Python (rag)",
   "language": "python",
   "name": "rag"
  },
  "language_info": {
   "codemirror_mode": {
    "name": "ipython",
    "version": 3
   },
   "file_extension": ".py",
   "mimetype": "text/x-python",
   "name": "python",
   "nbconvert_exporter": "python",
   "pygments_lexer": "ipython3",
   "version": "3.10.15"
  }
 },
 "nbformat": 4,
 "nbformat_minor": 5
}
