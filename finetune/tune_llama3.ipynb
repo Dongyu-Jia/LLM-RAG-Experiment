{
 "cells": [
  {
   "cell_type": "markdown",
   "metadata": {},
   "source": [
    "Step 1. Load LLaMA 3.2 and its tokenizer"
   ]
  },
  {
   "cell_type": "code",
   "execution_count": null,
   "metadata": {},
   "outputs": [],
   "source": [
    "from transformers import AutoModelForCausalLM, AutoTokenizer\n",
    "\n",
    "model_name = \"unsloth/Llama-3.2-1B-Instruct\"\n",
    "model = AutoModelForCausalLM.from_pretrained(model_name)\n",
    "tokenizer = AutoTokenizer.from_pretrained(model_name)"
   ]
  },
  {
   "cell_type": "markdown",
   "metadata": {},
   "source": [
    "Step 2. Configure model and Freeze Lower Layers"
   ]
  },
  {
   "cell_type": "code",
   "execution_count": null,
   "metadata": {},
   "outputs": [],
   "source": [
    "# Preview the model configuration\n",
    "len = 0\n",
    "for name, param in model.named_parameters():\n",
    "    len += 1\n",
    "    print(f\"{name} - requires_grad: {param.requires_grad}\")\n",
    "print(f\"total layers - {len}\")"
   ]
  },
  {
   "cell_type": "code",
   "execution_count": 3,
   "metadata": {},
   "outputs": [],
   "source": [
    "# Freeze all layers except the top 2 (totally 15 known layers from above step)\n",
    "for name, parameter in model.named_parameters():\n",
    "    if \"model.norm.weight\" not in name and \"layers.15\" not in name:\n",
    "        parameter.requires_grad = False"
   ]
  },
  {
   "cell_type": "code",
   "execution_count": null,
   "metadata": {},
   "outputs": [],
   "source": [
    "# Verify configuration\n",
    "for name, param in model.named_parameters():\n",
    "    print(f\"{name} - requires_grad: {param.requires_grad}\")"
   ]
  },
  {
   "cell_type": "markdown",
   "metadata": {},
   "source": [
    "Step 3. Prepare the Dataset"
   ]
  },
  {
   "cell_type": "code",
   "execution_count": null,
   "metadata": {},
   "outputs": [],
   "source": [
    "from datasets import load_dataset\n",
    "\n",
    "dataset = load_dataset(\"pacovaldez/pandas-questions\")\n",
    "def tokenize_and_format(examples):\n",
    "    # Concatenate question and context as input if context exists; otherwise, use only the question\n",
    "    if 'context' in examples:\n",
    "        inputs = [q + \" \" + c for q, c in zip(examples['question'], examples['context'])]\n",
    "    else:\n",
    "        inputs = examples['question']\n",
    "    \n",
    "    # Tokenize the inputs and the outputs\n",
    "    model_inputs = tokenizer(inputs, max_length=512, truncation=True, padding=\"max_length\")\n",
    "    with tokenizer.as_target_tokenizer():\n",
    "        labels = tokenizer(examples['answer_body'], max_length=512, truncation=True, padding=\"max_length\")\n",
    "    \n",
    "    # Set the labels in the tokenized output\n",
    "    model_inputs[\"labels\"] = labels[\"input_ids\"]\n",
    "    return model_inputs\n",
    "\n",
    "dataset = dataset.map(tokenize_and_format, batched=True)\n",
    "dataset.set_format(type='torch', columns=['input_ids', 'attention_mask', 'labels'])"
   ]
  },
  {
   "cell_type": "markdown",
   "metadata": {},
   "source": [
    "Step 4. Define Loss Function"
   ]
  },
  {
   "cell_type": "code",
   "execution_count": null,
   "metadata": {},
   "outputs": [],
   "source": [
    "import torch\n",
    "\n",
    "def weighted_cross_entropy_loss(outputs, labels, weights=None): # weights is a tensor of shape (num_labels,), which is the weight for each class\n",
    "    logits = outputs.logits\n",
    "    loss_fct = torch.nn.CrossEntropyLoss(weight=weights, ignore_index=tokenizer.pad_token_id)\n",
    "    \n",
    "    active_loss = labels.view(-1) != tokenizer.pad_token_id\n",
    "    active_logits = logits.view(-1, logits.size(-1))[active_loss]\n",
    "    active_labels = labels.view(-1)[active_loss]\n",
    "\n",
    "    loss = loss_fct(active_logits, active_labels)\n",
    "    return loss"
   ]
  },
  {
   "cell_type": "markdown",
   "metadata": {},
   "source": [
    "Step 5. Train"
   ]
  },
  {
   "cell_type": "code",
   "execution_count": null,
   "metadata": {},
   "outputs": [],
   "source": [
    "from torch.utils.data import DataLoader\n",
    "from torch.amp import autocast, GradScaler\n",
    "\n",
    "# pre train summary\n",
    "torch.cuda.empty_cache()\n",
    "torch.cuda.memory_summary(device=None, abbreviated=False)\n",
    "gpu_stats = torch.cuda.get_device_properties(0)\n",
    "start_gpu_memory = round(torch.cuda.max_memory_reserved() / 1024 / 1024 / 1024, 3)\n",
    "max_memory = round(gpu_stats.total_memory / 1024 / 1024 / 1024, 3)\n",
    "print(f\"GPU = {gpu_stats.name}. Max memory = {max_memory} GB.\")\n",
    "print(f\"{start_gpu_memory} GB of memory reserved.\")\n",
    "\n",
    "# train\n",
    "num_epochs = 1\n",
    "batchSize = 2 # we need better gpu memory to increase batch size\n",
    "accumulation_steps = 8  # Defines how many steps to accumulate gradients before stepping optimizer\n",
    "learning_rate = 5e-5\n",
    "device = torch.device(\"cuda\" if torch.cuda.is_available() else \"cpu\")\n",
    "dataset_train = dataset['train'].select(range(3000)) # reduce the dataset size for limited gpu memory\n",
    "\n",
    "scaler = GradScaler(device)\n",
    "train_loader = DataLoader(dataset_train, batch_size=batchSize, shuffle=True)\n",
    "model.to(device)\n",
    "optimizer = torch.optim.Adam(filter(lambda p: p.requires_grad, model.parameters()), lr=learning_rate)\n",
    "\n",
    "model.train()\n",
    "for epoch in range(num_epochs):\n",
    "    total_loss = 0\n",
    "    num_batches = 0\n",
    "    for batch in train_loader:\n",
    "        inputs, labels = batch['input_ids'].to(device), batch['labels'].to(device)\n",
    "        with autocast(str(device)): # mixed precision - temporarily casts operations to float16\n",
    "            outputs = model(input_ids=inputs, labels=labels)\n",
    "            loss = weighted_cross_entropy_loss(outputs, labels)\n",
    "        \n",
    "        scaler.scale(loss).backward()\n",
    "        if (num_batches + 1) % accumulation_steps == 0: #Gradient Accumulation\n",
    "            scaler.step(optimizer) \n",
    "            scaler.update()\n",
    "            optimizer.zero_grad()\n",
    "        total_loss += loss.item()\n",
    "        num_batches += 1\n",
    "    average_loss = total_loss / num_batches\n",
    "    print(f'Epoch {epoch+1}, Average Loss: {average_loss:.4f}')\n",
    "\n",
    "# post train summary\n",
    "used_memory = round(torch.cuda.max_memory_reserved() / 1024 / 1024 / 1024, 3)\n",
    "used_memory_for_lora = round(used_memory - start_gpu_memory, 3)\n",
    "used_percentage = round(used_memory         /max_memory*100, 3)\n",
    "lora_percentage = round(used_memory_for_lora/max_memory*100, 3)\n",
    "print(f\"Peak reserved memory = {used_memory} GB.\")\n",
    "print(f\"Peak reserved memory for training = {used_memory_for_lora} GB.\")\n",
    "print(f\"Peak reserved memory % of max memory = {used_percentage} %.\")\n",
    "print(f\"Peak reserved memory for training % of max memory = {lora_percentage} %.\")\n"
   ]
  },
  {
   "cell_type": "markdown",
   "metadata": {},
   "source": [
    "Step 6. Evaluation and Iteration"
   ]
  },
  {
   "cell_type": "code",
   "execution_count": null,
   "metadata": {},
   "outputs": [],
   "source": [
    "validation_loader = DataLoader(dataset['validation'], batch_size=batchSize, shuffle=True)\n",
    "model.eval()\n",
    "with torch.no_grad():\n",
    "    for batch in validation_loader:\n",
    "        inputs, labels = batch['input_ids'].to(device), batch['labels'].to(device)\n",
    "        with autocast(str(device)): # mixed precision - temporarily casts operations to float16\n",
    "            outputs = model(input_ids=inputs, labels=labels)\n",
    "            loss = weighted_cross_entropy_loss(outputs, labels)\n",
    "        print(f\"Validation Loss: {loss.item()}\")"
   ]
  }
 ],
 "metadata": {
  "kernelspec": {
   "display_name": "base",
   "language": "python",
   "name": "python3"
  },
  "language_info": {
   "codemirror_mode": {
    "name": "ipython",
    "version": 3
   },
   "file_extension": ".py",
   "mimetype": "text/x-python",
   "name": "python",
   "nbconvert_exporter": "python",
   "pygments_lexer": "ipython3",
   "version": "3.12.2"
  }
 },
 "nbformat": 4,
 "nbformat_minor": 2
}
